{
 "cells": [
  {
   "cell_type": "markdown",
   "id": "0cec4d04",
   "metadata": {
    "cellId": "81f9jqs3r85qd7xdulnmi"
   },
   "source": [
    "# \"Functions Description\"\n",
    "> \"Going through some functions and classes that will be extensively used in blog\"\n",
    "- toc: true\n",
    "- branch: master\n",
    "- badges: true\n",
    "- comments: true\n",
    "- permalink: /first-post/\n",
    "- categories: [d2l, deeplearning, jupyter]"
   ]
  },
  {
   "cell_type": "markdown",
   "id": "6f9443a1",
   "metadata": {
    "cellId": "von8noiyvgm025by1zt1dgf"
   },
   "source": [
    "## 1. Axulliary Functions and Classes"
   ]
  },
  {
   "cell_type": "markdown",
   "id": "75e28d38",
   "metadata": {
    "cellId": "clw77njk8wf98lj7ju4v8"
   },
   "source": [
    "### 1.1 Plotting Functions"
   ]
  },
  {
   "cell_type": "code",
   "execution_count": 205,
   "id": "4d91ee04",
   "metadata": {
    "cellId": "9aacx5n56nqn0h8eieijmg"
   },
   "outputs": [],
   "source": [
    "# hide\n",
    "from matplotlib import pyplot as plt\n",
    "from typing import Union, Tuple, List\n",
    "from IPython import display\n",
    "import numpy as np\n",
    "\n",
    "%matplotlib inline"
   ]
  },
  {
   "cell_type": "markdown",
   "id": "c6e9526a",
   "metadata": {
    "cellId": "axde8hrwms94knh50erdyy"
   },
   "source": [
    "Below is the main plotting function, which is creates or uses existing axes to plot multiple functions. Optionally we apply scaling and limits x and y values. \n",
    "\n",
    "From the functions point of view there is nothing really interesting going on. I provided key comments below in most places. We create two auxilliary functions - `set_axes` and `set_global_graph_params`. \n",
    "\n",
    "<ul>\n",
    "    <li>`set_axes` sets labels, limits and scale for the x and y axis.</li>\n",
    "    <li>`set_global_graph_params` sets figure size and adjusts background color to dark_background</li>\n",
    "</ul>"
   ]
  },
  {
   "cell_type": "code",
   "execution_count": 211,
   "id": "a8093065",
   "metadata": {
    "cellId": "nmec7o14crda5lt7p2es6"
   },
   "outputs": [],
   "source": [
    "# collapse\n",
    "def set_axes(axes: plt.Axes, xlabel: str, ylabel: str, \n",
    "             xlim: Union[int, float], ylim: Union[int, float],\n",
    "             xscale: str, yscale: str, legend: List[str]) -> plt.Axes:\n",
    "    \"\"\"\n",
    "    Customizes the provided axes according to the provided parameters\n",
    "    \"\"\"\n",
    "    # set labels\n",
    "    axes.set_xlabel(xlabel)\n",
    "    axes.set_ylabel(ylabel)\n",
    "    \n",
    "    # must be used before setting `xlim` and `ylim` to avoid distorting the graph\n",
    "    axes.set_xscale(xscale)\n",
    "    axes.set_yscale(yscale)\n",
    "    \n",
    "    # set limits\n",
    "    axes.set_xlim(xlim)\n",
    "    axes.set_ylim(ylim)\n",
    "    \n",
    "    # add legend\n",
    "    if legend is not None: axes.legend(legend)\n",
    "    \n",
    "    # add square grid\n",
    "    axes.grid()\n",
    "    \n",
    "    return axes\n",
    "\n",
    "\n",
    "def set_global_graph_params(figsize: Tuple[float, float] = (3.5, 2.5),\n",
    "                            darkmode: bool = False):\n",
    "    \"\"\"\n",
    "    Use plt parameters to set the figure size and background style.\n",
    "    \n",
    "    For more details please refer to:\n",
    "    https://matplotlib.org/3.5.0/tutorials/introductory/customizing.html#customizing-with-dynamic-rc-settings\n",
    "    \"\"\"\n",
    "    # set size of the figure\n",
    "    plt.rcParams['figure.figsize'] = figsize\n",
    "    \n",
    "    display.set_matplotlib_formats('png')\n",
    "    # use if dark background is enables\n",
    "    if darkmode: plt.style.use(\"dark_background\") "
   ]
  },
  {
   "cell_type": "markdown",
   "id": "9736b631",
   "metadata": {
    "cellId": "tzkyytqx2tnhejfe0ubx"
   },
   "source": [
    "`plot` is the main plotting function that takes list or array of X values, corresponding list of Y values (functions on X) and plots those functions on a graph using different predetermined styles.\n",
    "\n",
    "The code snippet below checks if X and Y have one axis (either a list or array with one dimension). If this condition is true, than it creates lists for both X and Y in order to be able to compare the their respective length. This is usefull when Y is an array of several functions over X $ (f(x), \\space f^{'}(x)) $. Then X will be repeated twice for both functions.\n",
    "\n",
    "```python\n",
    "if has_one_axis(X):\n",
    "    X = [X]  \n",
    "if Y is None:\n",
    "    X, Y = [[]]*len(X), X\n",
    "elif has_one_axis(Y):\n",
    "    Y = [Y]\n",
    "    \n",
    "```"
   ]
  },
  {
   "cell_type": "code",
   "execution_count": 212,
   "id": "330f466e",
   "metadata": {
    "cellId": "80qybve4glkq8j44xaau4o"
   },
   "outputs": [],
   "source": [
    "# collapse\n",
    "def plot(X: Union[list, torch.Tensor], Y:Union[list, torch.Tensor] = None, \n",
    "         xlabel: str = None, ylabel: str = None, legend: List[str] = None, xlim: Union[int, float] = None, \n",
    "         ylim: Union[int, float] = None, xscale: str = 'linear', yscale: str = 'linear',\n",
    "         fmts: Tuple[str] = ('-', 'm--', 'g-.', 'r:'), \n",
    "         figsize: Tuple[float, float] = (3.5, 2.5), axes: plt.Axes = None, darkmode: bool =  False):\n",
    "    \"\"\"\n",
    "    Main plotting function that takes `X` as an array and Y as a list of tensors (functions on `X`).\n",
    "    Optionally applies scaling and limits on x and y axis\n",
    "    \"\"\"\n",
    "    \n",
    "    set_global_graph_params(figsize, darkmode)\n",
    "    axes = axes if axes else plt.gca()\n",
    "    \n",
    "    def has_one_axis(X):\n",
    "        \"\"\"\n",
    "        Check if X is a 1-d list of 1-d tensor / array\n",
    "        \"\"\"\n",
    "        return (hasattr(X, \"ndim\") and X.ndim == 1) or \\\n",
    "        (isinstance(X, list) and (not hasattr(X[0], \"__len__\")))\n",
    "    \n",
    "    if has_one_axis(X):\n",
    "        X = [X]  # for the step below when we repeat X the len(y) times. Without it list will just increase in size\n",
    "    if Y is None:\n",
    "        X, Y = [[]]*len(X), X #  convenience to run the loop below (zip). Basically defaults to `axes.plot(y, fmt)`\n",
    "    elif has_one_axis(Y):\n",
    "        Y = [Y]\n",
    "    \n",
    "    # adjust `X` for the length of `Y` by repeating `X` len(`Y`) times\n",
    "    if len(X) != len(Y):\n",
    "        X = X * len(Y)\n",
    "        \n",
    "    if axes is None: axes = plt.gca()\n",
    "    plt.cla()\n",
    "    \n",
    "    for x, y, fmt in zip(X, Y, fmts):\n",
    "        if len(x):\n",
    "            axes.plot(x, y, fmt)\n",
    "        else:\n",
    "            axes.plot(y, fmt)\n",
    "            \n",
    "    set_axes(axes, xlabel, ylabel, xlim, ylim, xscale, yscale, legend)"
   ]
  },
  {
   "cell_type": "markdown",
   "id": "2951ef58",
   "metadata": {
    "cellId": "ffp6ethgur933xcpaei4n1"
   },
   "source": [
    "#### Examples"
   ]
  },
  {
   "cell_type": "code",
   "execution_count": 208,
   "id": "7e143efd",
   "metadata": {
    "cellId": "os7d4gnjv2yk3ij1czux"
   },
   "outputs": [
    {
     "data": {
      "image/png": "[encoded data removed]",
      "text/plain": [
       "<Figure size 252x180 with 1 Axes>"
      ]
     },
     "metadata": {
      "needs_background": "light"
     },
     "output_type": "display_data"
    }
   ],
   "source": [
    "X = list(range(1, 100, 1))\n",
    "plot(X=X, xlabel=\"X\", ylabel=\"Y\", legend=[\"Simple case 1\"]);"
   ]
  },
  {
   "cell_type": "code",
   "execution_count": 209,
   "id": "795c6692",
   "metadata": {
    "cellId": "o94qzumtlgfldbi53pnpuf"
   },
   "outputs": [
    {
     "data": {
      "image/png": "[encoded data removed]",
      "text/plain": [
       "<Figure size 252x180 with 1 Axes>"
      ]
     },
     "metadata": {
      "needs_background": "light"
     },
     "output_type": "display_data"
    }
   ],
   "source": [
    "X = np.arange(0, 100, 0.1)\n",
    "plot(X=X, Y=[x**2 for x in X], xlabel=\"X\", ylabel=\"Y\", legend=[\"Simple case 2\"]);"
   ]
  },
  {
   "cell_type": "code",
   "execution_count": 210,
   "id": "89f6abf4",
   "metadata": {
    "cellId": "a8oj2o4bj0fq7kizwwgfd"
   },
   "outputs": [
    {
     "data": {
      "image/png": "[encoded data removed]",
      "text/plain": [
       "<Figure size 360x288 with 1 Axes>"
      ]
     },
     "metadata": {
      "needs_background": "light"
     },
     "output_type": "display_data"
    }
   ],
   "source": [
    "X = np.arange(0, 100, 0.1)\n",
    "Y1 = X**2 - 10*X\n",
    "Y2 = 50*X\n",
    "Y3 =  Y1 + Y2\n",
    "plot(X=X, Y=[Y1, Y2, Y3], xlabel=\"X\", ylabel=\"Y\", legend=[\"X**2\", \"50*X\", \"X**2 + 50*X\"], figsize=[5, 4]);"
   ]
  },
  {
   "cell_type": "markdown",
   "id": "a2a2dadc",
   "metadata": {
    "cellId": "kaam7qqzs1nkpz4z8n5q8o"
   },
   "source": [
    "### 1.2 Timer"
   ]
  },
  {
   "cell_type": "code",
   "execution_count": 263,
   "id": "9e839d01",
   "metadata": {
    "cellId": "bh9pu99nce404jwei02cppt"
   },
   "outputs": [],
   "source": [
    "# hide\n",
    "import time"
   ]
  },
  {
   "cell_type": "code",
   "execution_count": 278,
   "id": "9859ec09",
   "metadata": {
    "cellId": "4ad9prwiqtla8503drt34q"
   },
   "outputs": [],
   "source": [
    "# collapse\n",
    "class Timer:\n",
    "    \"\"\"Record multiple running times\"\"\"\n",
    "    def __init__(self):\n",
    "        self.times = []\n",
    "        self.start()\n",
    "    \n",
    "    def start(self):\n",
    "        \"\"\"Start the timer.\"\"\"\n",
    "        self.tik = time.time()\n",
    "    \n",
    "    def stop(self):\n",
    "        \"\"\"Stop the timer and record the time in a list.\"\"\"\n",
    "        self.times.append(time.time() - self.tik)\n",
    "        return self.times[-1]\n",
    "    \n",
    "    def avg(self):\n",
    "        \"\"\"Return the average time.\"\"\"\n",
    "        return sum(self.times) / len(self.times)\n",
    "    \n",
    "    def cumsum(self):\n",
    "        \"\"\"Return the accumulated time.\"\"\"\n",
    "        return np.array(self.times).cumsum().tolist()"
   ]
  },
  {
   "cell_type": "markdown",
   "id": "dd784607",
   "metadata": {
    "cellId": "e4swulqorign822gjptd39"
   },
   "source": [
    "### Examples"
   ]
  },
  {
   "cell_type": "markdown",
   "id": "eaa97f99",
   "metadata": {
    "cellId": "qth4ef6wkna3e9a1j0snvz"
   },
   "source": [
    "As a simple example we create two torch tensors of length 10 000 and add them up in in a loop. We can use `Timer` to measure how long it takes for the code to run. At the same time please note that using jupyter magic command `%%timeit` is more reliable due to the following reasons:\n",
    "<ul>\n",
    "    <li> `Timer` relies only on a single calculation and thus is sensitive to other processes that may be running in the OS at the current moment. %%timeit at the same time averages its calculation thus reducing the influence of parallel processes / tasks</li>\n",
    "    <li>`%%timeit disables the garbage collector to minimize influence of a collection run at during code timing.</li>\n",
    "</ul>"
   ]
  },
  {
   "cell_type": "code",
   "execution_count": 289,
   "id": "76d2c275",
   "metadata": {
    "cellId": "butrzdt94fi0tb6atzxeke"
   },
   "outputs": [],
   "source": [
    "n = 10000\n",
    "a = torch.ones(n)\n",
    "b = torch.ones(n)"
   ]
  },
  {
   "cell_type": "code",
   "execution_count": 298,
   "id": "56f35a63",
   "metadata": {
    "cellId": "8at6mjq0dwct6ur0iymg8j"
   },
   "outputs": [
    {
     "name": "stdout",
     "output_type": "stream",
     "text": [
      "0.15946 sec\n"
     ]
    }
   ],
   "source": [
    "timer = Timer()\n",
    "timer.start()\n",
    "c = []\n",
    "for i in range(len(b)):\n",
    "    c.append(a[i] + b[i])\n",
    "print(f'{timer.stop():.5f} sec')"
   ]
  },
  {
   "cell_type": "code",
   "execution_count": 299,
   "id": "8d22b28c",
   "metadata": {
    "cellId": "7squqko5x9jiud99v4mw7d"
   },
   "outputs": [
    {
     "name": "stdout",
     "output_type": "stream",
     "text": [
      "39.1 ms ± 641 µs per loop (mean ± std. dev. of 7 runs, 10 loops each)\n"
     ]
    }
   ],
   "source": [
    "%%timeit\n",
    "c = []\n",
    "for i in range(len(b)):\n",
    "    c.append(a[i] + b[i])"
   ]
  },
  {
   "cell_type": "markdown",
   "id": "14c9fd49",
   "metadata": {
    "cellId": "0fg25khi1dqug11ktnpvhmf"
   },
   "source": [
    "## 1.3 Auxilliary functions"
   ]
  },
  {
   "cell_type": "markdown",
   "id": "1cc3fa69",
   "metadata": {
    "cellId": "acep93gsgdek67419fpvse"
   },
   "source": [
    "`synthetic_data` is used to create simple linear layer"
   ]
  },
  {
   "cell_type": "code",
   "execution_count": 346,
   "id": "e884b471",
   "metadata": {
    "cellId": "tvrt11v2f3ka0mvncolff"
   },
   "outputs": [],
   "source": [
    "def synthetic_data(w: torch.Tensor, b: Union[torch.Tensor, float], num_examples: int) -> torch.Tensor:\n",
    "    \"\"\"Generate y = Xw + b + noise, where y.shape is (num_examples, 1)\"\"\"\n",
    "    X = torch.normal(mean=0, std=1, size=(num_examples,len(w)))  # create X from normal distrubtion \n",
    "    y = X@w + b  # Calculate y by using matrix multiplication `@`\n",
    "    y += torch.normal(mean=0, std=0.01, size=y.shape)\n",
    "    # if `w` is a 1-dimensional tensor, than y will be also a 1-dimensional tensor with shape [num_examples]\n",
    "    # we reshape `y` to be of shape [num_examples,1]\n",
    "    return X, y.reshape(-1,1)"
   ]
  },
  {
   "cell_type": "code",
   "execution_count": 369,
   "id": "91788793",
   "metadata": {
    "cellId": "bjfz6xw857wgg05jzs1qz"
   },
   "outputs": [],
   "source": [
    "def linreg(X: torch.Tensor, w: torch.Tensor, b: Union[torch.Tensor, float]) -> torch.Tensor:\n",
    "    assert X.shape[-1] == w.shape[0], f'Got incorrect shapes for matrix multiplication. X.shape: {X.shape} and w.shape: {w.shape}'\n",
    "    return X@w + b"
   ]
  },
  {
   "cell_type": "markdown",
   "id": "795d2b11",
   "metadata": {
    "cellId": "a8q2y8x58lbxwx001l20h"
   },
   "source": [
    "### Examples"
   ]
  },
  {
   "cell_type": "code",
   "execution_count": 371,
   "id": "b7ffbb91",
   "metadata": {
    "cellId": "fneu9hp2dwdjh01vn0l3o"
   },
   "outputs": [
    {
     "data": {
      "text/plain": [
       "(torch.Size([1000, 2]), torch.Size([1000, 1]))"
      ]
     },
     "execution_count": 371,
     "metadata": {},
     "output_type": "execute_result"
    }
   ],
   "source": [
    "w = torch.tensor([2, -3.4])\n",
    "b = 4.2\n",
    "features, labels = synthetic_data(w, b, 1000)\n",
    "features.shape, labels.shape"
   ]
  },
  {
   "cell_type": "code",
   "execution_count": null,
   "id": "65ded1e8",
   "metadata": {
    "cellId": "f8nchf8apvg43alg5c5fyb"
   },
   "outputs": [],
   "source": [
    "X = torch.normal(0, 1, size=(5,2))\n",
    "w = torch.tensor([2, -3.4])\n",
    "b = 4.2"
   ]
  },
  {
   "cell_type": "code",
   "execution_count": null,
   "id": "376d631e",
   "metadata": {
    "cellId": "1oyqykflphxpgo7vh210dd"
   },
   "outputs": [],
   "source": []
  }
 ],
 "metadata": {
  "kernelspec": {
   "display_name": "Yandex DataSphere Kernel",
   "language": "python",
   "name": "python3"
  },
  "language_info": {
   "codemirror_mode": {
    "name": "ipython",
    "version": 3
   },
   "file_extension": ".py",
   "mimetype": "text/x-python",
   "name": "python",
   "nbconvert_exporter": "python",
   "pygments_lexer": "ipython3",
   "version": "3.7.7"
  },
  "notebookId": "26f61984-9a0b-41df-bf86-9e25b409a9b8",
  "notebookPath": "coding-blog/_notebooks/2022-06-14-My-First-Post.ipynb"
 },
 "nbformat": 4,
 "nbformat_minor": 5
}
